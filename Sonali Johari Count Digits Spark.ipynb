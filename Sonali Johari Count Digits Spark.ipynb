{
 "cells": [
  {
   "cell_type": "code",
   "execution_count": 2,
   "metadata": {},
   "outputs": [],
   "source": [
    "from pyspark.context import SparkContext\n",
    "sc = SparkContext.getOrCreate()"
   ]
  },
  {
   "cell_type": "code",
   "execution_count": 3,
   "metadata": {},
   "outputs": [],
   "source": [
    "text_file = sc.textFile('Class 4 - Data For Programming Assignment v1.txt')"
   ]
  },
  {
   "cell_type": "code",
   "execution_count": 4,
   "metadata": {},
   "outputs": [],
   "source": [
    "input_file = sc.textFile(\"Class 4 - Data For Programming Assignment v1.txt\")\n",
    "map = input_file.flatMap(lambda line: line.strip())\\\n",
    "                .filter(lambda digit: digit != \" \" and digit != \".\")\\\n",
    "                .map(lambda digit: (digit, 1))\n",
    "counts = map.reduceByKey(lambda a, b: a + b)\n"
   ]
  },
  {
   "cell_type": "code",
   "execution_count": 5,
   "metadata": {},
   "outputs": [
    {
     "name": "stdout",
     "output_type": "stream",
     "text": [
      "1: 99\n",
      "4: 100\n",
      "0: 108\n",
      "9: 92\n",
      "8: 113\n",
      "2: 108\n",
      "3: 82\n",
      "5: 104\n",
      "6: 90\n",
      "7: 104\n"
     ]
    }
   ],
   "source": [
    "output = counts.collect()\n",
    "for (digit, count) in output:\n",
    "    print(\"%s: %i\" % (digit, count))"
   ]
  },
  {
   "cell_type": "code",
   "execution_count": 6,
   "metadata": {},
   "outputs": [],
   "source": [
    "sc.stop()"
   ]
  },
  {
   "cell_type": "code",
   "execution_count": null,
   "metadata": {},
   "outputs": [],
   "source": []
  }
 ],
 "metadata": {
  "kernelspec": {
   "display_name": "Python 3",
   "language": "python",
   "name": "python3"
  },
  "language_info": {
   "codemirror_mode": {
    "name": "ipython",
    "version": 3
   },
   "file_extension": ".py",
   "mimetype": "text/x-python",
   "name": "python",
   "nbconvert_exporter": "python",
   "pygments_lexer": "ipython3",
   "version": "3.7.1"
  }
 },
 "nbformat": 4,
 "nbformat_minor": 2
}
